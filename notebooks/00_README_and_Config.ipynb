{
  "nbformat": 4,
  "nbformat_minor": 5,
  "metadata": {
    "title": "README & Config"
  },
  "cells": [
    {
      "id": "db00b8f3",
      "cell_type": "markdown",
      "source": "# 00 \u2013 README & Config (Notebook Edition)\n**Updated:** 2025-10-17\n\nEnd-to-end notebooks for a finance-grade KYC Reporting Factory on Azure Databricks.\n\n**Order:**\n1) 00 \u2013 Config\n2) 10 \u2013 DLT Pipeline\n3) 20 \u2013 Risk Scoring\n4) 30 \u2013 SQL Views\n5) 40 \u2013 Bootstrap Customers (optional)\n\n> Edit the variables in the Config cell below.",
      "metadata": {}
    },
    {
      "id": "bd7a7fa7",
      "cell_type": "code",
      "metadata": {},
      "execution_count": null,
      "source": "# ---- Global config for the demo (edit values for your workspace) ----\nCATALOG = \"kyc_demo\"\nSCHEMA_BRONZE = \"bronze\"\nSCHEMA_SILVER = \"silver\"\nSCHEMA_GOLD   = \"gold\"\n\n# Unity Catalog Volumes \u2013 keep consistent with your deployment\nVOLUME_URI_RAW = \"dbfs:/Volumes/kyc_demo/bronze/raw\"\nVOLUME_URI_REF = \"dbfs:/Volumes/kyc_demo/bronze/ref\"\n\n# Optional: SQL Warehouse ID for external connections\nSQL_WAREHOUSE_ID = \"<SQL_WAREHOUSE_ID>\"\n\nprint('Config set:', CATALOG, SCHEMA_BRONZE, SCHEMA_SILVER, SCHEMA_GOLD)\nprint('RAW:', VOLUME_URI_RAW)\nprint('REF:', VOLUME_URI_REF)",
      "outputs": []
    },
    {
      "id": "e2ffa0c9",
      "cell_type": "markdown",
      "source": "### Quick Start\n1. Create UC catalog/schemas/volumes.\n2. Upload files to Volumes:\n```\n/raw/paysim/paysim_small.csv\n/raw/customers/customers.csv  (optional; generate via nb 40)\n/ref/ofac/sdn.csv\n/ref/pep/pep.csv\n```\n3. Run `10_DLT_Pipeline` (Triggered batch DLT) to build Gold.\n4. Run `20_Risk_Scoring` to create `go_risk_scores` + MLflow metrics.\n5. Run `30_SQL_Views` to publish business-facing views.",
      "metadata": {}
    }
  ]
}