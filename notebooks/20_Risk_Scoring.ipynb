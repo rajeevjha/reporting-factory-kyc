{
  "nbformat": 4,
  "nbformat_minor": 5,
  "metadata": {
    "title": "Risk Scoring"
  },
  "cells": [
    {
      "id": "a4383635",
      "cell_type": "markdown",
      "source": "# 20 \u2013 Risk Scoring (Rule-based) + MLflow",
      "metadata": {}
    },
    {
      "id": "da8dc40b",
      "cell_type": "code",
      "metadata": {},
      "execution_count": null,
      "source": "from pyspark.sql import functions as F\nimport mlflow\n\nGOLD = f\"{CATALOG}.{SCHEMA_GOLD}\"\nfeatures = spark.table(f\"{GOLD}.go_entity_features\")\n\nscore = (F.when(F.col(\"pep_flag\") == True, 40).otherwise(0)\n         + F.when(F.col(\"sanctions_hits_30d\") > 0, 35).otherwise(0)\n         + F.when(F.col(\"geo_risk\") == \"HIGH\", 15).when(F.col(\"geo_risk\") == \"MEDIUM\", 5).otherwise(0)\n         + F.when(F.col(\"net_flow_30d\") > 100000, 10).otherwise(0))\n\nscored = (features\n  .withColumn(\"risk_score\", score)\n  .withColumn(\"band\", F.when(F.col(\"risk_score\") >= 60, \"HIGH\")\n                       .when(F.col(\"risk_score\") >= 30, \"MEDIUM\")\n                       .otherwise(\"LOW\"))\n  .withColumn(\"run_ts\", F.current_timestamp()))\n\nmlflow.set_experiment(\"/Shared/kyc_reporting_factory\")\nwith mlflow.start_run(run_name=\"risk_scoring_demo\") as run:\n    (scored.write.mode(\"overwrite\").saveAsTable(f\"{GOLD}.go_risk_scores\"))\n    dist = (scored.groupBy(\"band\").count().toPandas().set_index(\"band\")[\"count\"].to_dict())\n    mlflow.log_metrics({f\"band_{k}\": float(v) for k, v in dist.items()})\n    mlflow.log_param(\"rule_version\", \"v1.0\")\n    mlflow.log_param(\"thresholds\", \">=60:HIGH, >=30:MEDIUM\")\n\nprint(\"Wrote table:\", f\"{GOLD}.go_risk_scores\")",
      "outputs": []
    }
  ]
}