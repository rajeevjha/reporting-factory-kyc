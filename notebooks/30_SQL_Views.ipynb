{
  "nbformat": 4,
  "nbformat_minor": 5,
  "metadata": {
    "title": "SQL Views"
  },
  "cells": [
    {
      "id": "b34dcf36",
      "cell_type": "markdown",
      "source": "# 30 \u2013 Create SQL Views (Business-facing)",
      "metadata": {}
    },
    {
      "id": "2ea63b97",
      "cell_type": "code",
      "metadata": {},
      "execution_count": null,
      "source": "cat = CATALOG; sg = SCHEMA_GOLD\nspark.sql(f\"USE CATALOG {cat}\")\nspark.sql(f\"CREATE SCHEMA IF NOT EXISTS {cat}.{sg}\")\n\nspark.sql(f'''\nCREATE OR REPLACE VIEW {cat}.{sg}.go_report_views_highrisk AS\nSELECT e.entity_id,\n       e.pep_flag,\n       e.geo_risk,\n       r.risk_score,\n       r.band,\n       r.run_ts\nFROM   {cat}.{sg}.go_entity_features e\nJOIN   {cat}.{sg}.go_risk_scores r USING (entity_id)\nWHERE  r.band = 'HIGH'\n''')\n\nspark.sql(f'''\nCREATE OR REPLACE VIEW {cat}.{sg}.go_report_views_onboarding AS\nSELECT e.entity_id, e.geo_risk, r.risk_score, r.band, r.run_ts\nFROM   {cat}.{sg}.go_entity_features e\nJOIN   {cat}.{sg}.go_risk_scores r USING (entity_id)\n''')\n\nprint(\"Created views in\", f\"{cat}.{sg}\")",
      "outputs": []
    }
  ]
}